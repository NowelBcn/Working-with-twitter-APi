{
 "cells": [
  {
   "cell_type": "code",
   "execution_count": 1,
   "metadata": {},
   "outputs": [],
   "source": [
    "from tweepy import OAuthHandler\n",
    "from tweepy import API\n",
    "import credentials as cr\n",
    "from slistener import MyStreamListener\n",
    "from tweepy import Stream\n"
   ]
  },
  {
   "cell_type": "code",
   "execution_count": 2,
   "metadata": {},
   "outputs": [],
   "source": [
    "# Store OAuth authentication credentials in relevant variables(this credentials are imported from as a module)\n",
    "# Consumer key authentication\n",
    "auth = OAuthHandler(cr.consumer_key, cr.consumer_secret)\n",
    "# Access key authentication\n",
    "auth.set_access_token(cr.access_token, cr.access_token_secret)\n",
    "\n",
    "# Set up the API with the authentication handler\n",
    "api = API(auth)\n"
   ]
  },
  {
   "cell_type": "code",
   "execution_count": 4,
   "metadata": {},
   "outputs": [],
   "source": [
    "words_to_find = ['#python', '#rstats']\n",
    "\n",
    "# Instantiate the SListener object \n",
    "listen = MyStreamListener(api)\n",
    "\n",
    "# Instantiate the Stream object\n",
    "stream = Stream(auth, listen)\n",
    "\n",
    "# Begin collecting data\n",
    "stream.filter(track = words_to_find)"
   ]
  },
  {
   "cell_type": "code",
   "execution_count": 5,
   "metadata": {},
   "outputs": [
    {
     "name": "stdout",
     "output_type": "stream",
     "text": [
      "dict_keys(['created_at', 'id', 'id_str', 'text', 'display_text_range', 'source', 'truncated', 'in_reply_to_status_id', 'in_reply_to_status_id_str', 'in_reply_to_user_id', 'in_reply_to_user_id_str', 'in_reply_to_screen_name', 'user', 'geo', 'coordinates', 'place', 'contributors', 'is_quote_status', 'extended_tweet', 'quote_count', 'reply_count', 'retweet_count', 'favorite_count', 'entities', 'favorited', 'retweeted', 'possibly_sensitive', 'filter_level', 'lang', 'timestamp_ms', 'user-screen_name', 'extended_tweet-full_text'])\n"
     ]
    }
   ],
   "source": [
    "# Import package\n",
    "import json\n",
    "from flatten_tweets import flatten_tweets\n",
    "\n",
    "# String of path to file: tweets_data_path\n",
    "tweets_data_path = 'tweets.txt'\n",
    "\n",
    "# Initialize empty list to store tweets: tweets_data\n",
    "tweets_data = []\n",
    "\n",
    "# Open connection to file\n",
    "tweets_file = open(tweets_data_path, \"r\")\n",
    "\n",
    "\n",
    "tweets = flatten_tweets(tweets_file)\n",
    "# Read in tweets and store in list: tweets_data\n",
    "#for line in tweets_file:\n",
    " #   tweet = json.loads(line)\n",
    "  #  tweets_data.append(tweet)\n",
    "    \n",
    "\n",
    "# Close connection to file\n",
    "tweets_file.close()\n",
    "\n",
    "# Print the keys of the first tweet dict\n",
    "print(tweets[0].keys())\n",
    "\n"
   ]
  },
  {
   "cell_type": "code",
   "execution_count": 6,
   "metadata": {},
   "outputs": [
    {
     "data": {
      "text/plain": [
       "Index(['contributors', 'coordinates', 'created_at', 'display_text_range',\n",
       "       'entities', 'extended_entities', 'extended_tweet',\n",
       "       'extended_tweet-full_text', 'favorite_count', 'favorited',\n",
       "       'filter_level', 'geo', 'id', 'id_str', 'in_reply_to_screen_name',\n",
       "       'in_reply_to_status_id', 'in_reply_to_status_id_str',\n",
       "       'in_reply_to_user_id', 'in_reply_to_user_id_str', 'is_quote_status',\n",
       "       'lang', 'place', 'possibly_sensitive', 'quote_count', 'quoted_status',\n",
       "       'quoted_status_id', 'quoted_status_id_str', 'quoted_status_permalink',\n",
       "       'reply_count', 'retweet_count', 'retweeted', 'retweeted_status',\n",
       "       'retweeted_status-text', 'retweeted_status-user-screen_name', 'source',\n",
       "       'text', 'timestamp_ms', 'truncated', 'user', 'user-screen_name'],\n",
       "      dtype='object')"
      ]
     },
     "execution_count": 6,
     "metadata": {},
     "output_type": "execute_result"
    }
   ],
   "source": [
    "import pandas as pd\n",
    "\n",
    "# Build DataFrame of tweet texts and languages\n",
    "df = pd.DataFrame(tweets)\n",
    "\n",
    "df.columns"
   ]
  },
  {
   "cell_type": "code",
   "execution_count": 7,
   "metadata": {},
   "outputs": [
    {
     "name": "stdout",
     "output_type": "stream",
     "text": [
      "0    Sat Sep 08 10:42:40 +0000 2018\n",
      "1    Sat Sep 08 10:42:53 +0000 2018\n",
      "2    Sat Sep 08 10:42:58 +0000 2018\n",
      "3    Sat Sep 08 10:44:16 +0000 2018\n",
      "4    Sat Sep 08 10:44:18 +0000 2018\n",
      "Name: created_at, dtype: object\n"
     ]
    }
   ],
   "source": [
    "# Print created_at to see the original format of datetime in Twitter data\n",
    "print(df['created_at'].head())"
   ]
  },
  {
   "cell_type": "code",
   "execution_count": 8,
   "metadata": {},
   "outputs": [
    {
     "name": "stdout",
     "output_type": "stream",
     "text": [
      "0   2018-09-08 10:42:40\n",
      "1   2018-09-08 10:42:53\n",
      "2   2018-09-08 10:42:58\n",
      "3   2018-09-08 10:44:16\n",
      "4   2018-09-08 10:44:18\n",
      "Name: created_at, dtype: datetime64[ns]\n"
     ]
    }
   ],
   "source": [
    "# Convert the created_at column to np.datetime object\n",
    "\n",
    "df['created_at'] = pd.to_datetime(df['created_at'])\n",
    "\n",
    "# Print created_at to see new format\n",
    "print(df['created_at'].head())\n",
    "\n",
    "# Set the index of ds_tweets to created_at\n",
    "df = df.set_index('created_at')"
   ]
  },
  {
   "cell_type": "code",
   "execution_count": 9,
   "metadata": {},
   "outputs": [
    {
     "name": "stdout",
     "output_type": "stream",
     "text": [
      "created_at\n",
      "2018-09-08 10:42:40      workinbigdata\n",
      "2018-09-08 10:42:53           ericsin8\n",
      "2018-09-08 10:42:58           akdm_bot\n",
      "2018-09-08 10:44:16        CrisiDomCar\n",
      "2018-09-08 10:44:18    timelyportfolio\n",
      "Name: user-screen_name, dtype: object\n"
     ]
    }
   ],
   "source": [
    "print(df['user-screen_name'].head())"
   ]
  },
  {
   "cell_type": "code",
   "execution_count": 10,
   "metadata": {},
   "outputs": [
    {
     "data": {
      "text/plain": [
       "Index(['contributors', 'coordinates', 'display_text_range', 'entities',\n",
       "       'extended_entities', 'extended_tweet', 'extended_tweet-full_text',\n",
       "       'favorite_count', 'favorited', 'filter_level', 'geo', 'id', 'id_str',\n",
       "       'in_reply_to_screen_name', 'in_reply_to_status_id',\n",
       "       'in_reply_to_status_id_str', 'in_reply_to_user_id',\n",
       "       'in_reply_to_user_id_str', 'is_quote_status', 'lang', 'place',\n",
       "       'possibly_sensitive', 'quote_count', 'quoted_status',\n",
       "       'quoted_status_id', 'quoted_status_id_str', 'quoted_status_permalink',\n",
       "       'reply_count', 'retweet_count', 'retweeted', 'retweeted_status',\n",
       "       'retweeted_status-text', 'retweeted_status-user-screen_name', 'source',\n",
       "       'text', 'timestamp_ms', 'truncated', 'user', 'user-screen_name'],\n",
       "      dtype='object')"
      ]
     },
     "execution_count": 10,
     "metadata": {},
     "output_type": "execute_result"
    }
   ],
   "source": [
    "df.columns\n",
    "\n"
   ]
  },
  {
   "cell_type": "code",
   "execution_count": 11,
   "metadata": {},
   "outputs": [
    {
     "data": {
      "text/plain": [
       "created_at\n",
       "2018-09-08 10:42:40                                                  NaN\n",
       "2018-09-08 10:42:53    VIDEO: See firsthand how to send predictions f...\n",
       "2018-09-08 10:42:58    Tools for Working with #Excel and #Python\\nhtt...\n",
       "2018-09-08 10:44:16    La semana que viene estaremos en la  sede del ...\n",
       "2018-09-08 10:44:18    🎉 initial #rstats pull request for @ApacheArro...\n",
       "Name: retweeted_status-text, dtype: object"
      ]
     },
     "execution_count": 11,
     "metadata": {},
     "output_type": "execute_result"
    }
   ],
   "source": [
    "df['retweeted_status-text'].head()"
   ]
  },
  {
   "cell_type": "code",
   "execution_count": 12,
   "metadata": {},
   "outputs": [],
   "source": [
    "def check_word_in_tweet(word, data):\n",
    "    contains_column = data['text'].str.contains(word, case = False)\n",
    "    contains_column |= data['user-screen_name'].str.contains(word, case = False)\n",
    "    contains_column |= data['extended_tweet-full_text'].str.contains(word, case = False)\n",
    "    contains_column |= data['retweeted_status-user-screen_name'].str.contains(word, case = False)\n",
    "    contains_column |= data['retweeted_status-text'].str.contains(word, case=False)\n",
    "    return contains_column"
   ]
  },
  {
   "cell_type": "code",
   "execution_count": 16,
   "metadata": {},
   "outputs": [],
   "source": [
    "df['python'] = check_word_in_tweet('#python', df)\n",
    "df['rstats'] = check_word_in_tweet('#rstats', df)"
   ]
  },
  {
   "cell_type": "code",
   "execution_count": 17,
   "metadata": {},
   "outputs": [
    {
     "name": "stdout",
     "output_type": "stream",
     "text": [
      "created_at\n",
      "2018-09-08 10:42:40     True\n",
      "2018-09-08 10:42:53    False\n",
      "2018-09-08 10:42:58     True\n",
      "2018-09-08 10:44:16    False\n",
      "2018-09-08 10:44:18    False\n",
      "Name: python, dtype: bool\n"
     ]
    }
   ],
   "source": [
    "print(df['python'].head())"
   ]
  },
  {
   "cell_type": "code",
   "execution_count": 33,
   "metadata": {},
   "outputs": [
    {
     "ename": "SyntaxError",
     "evalue": "invalid syntax (<ipython-input-33-ffbe66c6d6af>, line 4)",
     "output_type": "error",
     "traceback": [
      "\u001b[1;36m  File \u001b[1;32m\"<ipython-input-33-ffbe66c6d6af>\"\u001b[1;36m, line \u001b[1;32m4\u001b[0m\n\u001b[1;33m    print(\"Proportion of #rstats tweets:\", np.sum(df['rstats'] / df.shape[0])\u001b[0m\n\u001b[1;37m        ^\u001b[0m\n\u001b[1;31mSyntaxError\u001b[0m\u001b[1;31m:\u001b[0m invalid syntax\n"
     ]
    }
   ],
   "source": [
    "# Print proportion of tweets mentioning #python\n",
    "\n",
    "print(\"Proportion of #python tweets:\", np.sum(df['python'] / df.shape[0])\n",
    "       \n",
    "print(\"Proportion of #rstats tweets:\", np.sum(df['rstats'] / df.shape[0])"
   ]
  },
  {
   "cell_type": "code",
   "execution_count": 31,
   "metadata": {},
   "outputs": [],
   "source": [
    "# Average of cabify column by day\n",
    "mean_python = df['python'].resample('1d').mean()\n",
    "\n",
    "# Average of taxi column by day\n",
    "mean_r = df['rstats'].resample('1d').mean()\n"
   ]
  },
  {
   "cell_type": "code",
   "execution_count": 38,
   "metadata": {},
   "outputs": [
    {
     "data": {
      "image/png": "[encoded data removed]",
      "text/plain": [
       "<Figure size 432x288 with 1 Axes>"
      ]
     },
     "metadata": {},
     "output_type": "display_data"
    }
   ],
   "source": [
    "import matplotlib.pyplot as plt\n",
    "\n",
    "# Plot mean python by day(green)/mean rstats by day(blue)\n",
    "plt.plot(mean_python.index.day, mean_python, color = 'green')\n",
    "plt.plot(mean_r.index.day, mean_r, color='blue')\n",
    "\n",
    "# Add labels and show\n",
    "plt.xlabel('Days'); plt.ylabel('Frequency')\n",
    "plt.title('Language mentions over time')\n",
    "plt.legend(('#python', '#rstats'))\n",
    "plt.show()\n"
   ]
  },
  {
   "cell_type": "code",
   "execution_count": null,
   "metadata": {},
   "outputs": [],
   "source": [
    "from nltk.sentiment.vader import SentimentIntensityAnalyzer\n",
    "\n",
    "sid = SentimentIntensityAnalyzer()\n"
   ]
  },
  {
   "cell_type": "code",
   "execution_count": null,
   "metadata": {},
   "outputs": [],
   "source": []
  }
 ],
 "metadata": {
  "kernelspec": {
   "display_name": "Python 3",
   "language": "python",
   "name": "python3"
  },
  "language_info": {
   "codemirror_mode": {
    "name": "ipython",
    "version": 3
   },
   "file_extension": ".py",
   "mimetype": "text/x-python",
   "name": "python",
   "nbconvert_exporter": "python",
   "pygments_lexer": "ipython3",
   "version": "3.6.5"
  }
 },
 "nbformat": 4,
 "nbformat_minor": 2
}
